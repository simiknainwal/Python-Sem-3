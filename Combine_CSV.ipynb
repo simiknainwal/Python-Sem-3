{
 "cells": [
  {
   "cell_type": "code",
   "execution_count": 1,
   "id": "80e5648a",
   "metadata": {},
   "outputs": [],
   "source": [
    "import pandas as pd"
   ]
  },
  {
   "cell_type": "code",
   "execution_count": 20,
   "id": "f79a637b",
   "metadata": {},
   "outputs": [],
   "source": [
    "df1=pd.read_csv(\"employees_basic.csv\")\n",
    "df2=pd.read_csv(\"employees_salary.csv\")\n",
    "df3=pd.read_csv(\"employees_dataset.csv\")\n"
   ]
  },
  {
   "cell_type": "code",
   "execution_count": 5,
   "id": "8a64197a",
   "metadata": {},
   "outputs": [
    {
     "data": {
      "text/plain": [
       "(8, 3)"
      ]
     },
     "execution_count": 5,
     "metadata": {},
     "output_type": "execute_result"
    }
   ],
   "source": [
    "df1.shape"
   ]
  },
  {
   "cell_type": "code",
   "execution_count": 6,
   "id": "748d1921",
   "metadata": {},
   "outputs": [
    {
     "data": {
      "text/html": [
       "<div>\n",
       "<style scoped>\n",
       "    .dataframe tbody tr th:only-of-type {\n",
       "        vertical-align: middle;\n",
       "    }\n",
       "\n",
       "    .dataframe tbody tr th {\n",
       "        vertical-align: top;\n",
       "    }\n",
       "\n",
       "    .dataframe thead th {\n",
       "        text-align: right;\n",
       "    }\n",
       "</style>\n",
       "<table border=\"1\" class=\"dataframe\">\n",
       "  <thead>\n",
       "    <tr style=\"text-align: right;\">\n",
       "      <th></th>\n",
       "      <th>Emp_ID</th>\n",
       "      <th>Name</th>\n",
       "      <th>Department</th>\n",
       "    </tr>\n",
       "  </thead>\n",
       "  <tbody>\n",
       "    <tr>\n",
       "      <th>0</th>\n",
       "      <td>101</td>\n",
       "      <td>Aarav</td>\n",
       "      <td>IT</td>\n",
       "    </tr>\n",
       "    <tr>\n",
       "      <th>1</th>\n",
       "      <td>102</td>\n",
       "      <td>Diya</td>\n",
       "      <td>HR</td>\n",
       "    </tr>\n",
       "    <tr>\n",
       "      <th>2</th>\n",
       "      <td>103</td>\n",
       "      <td>Rohan</td>\n",
       "      <td>Finance</td>\n",
       "    </tr>\n",
       "    <tr>\n",
       "      <th>3</th>\n",
       "      <td>104</td>\n",
       "      <td>Sneha</td>\n",
       "      <td>IT</td>\n",
       "    </tr>\n",
       "    <tr>\n",
       "      <th>4</th>\n",
       "      <td>105</td>\n",
       "      <td>Rahul</td>\n",
       "      <td>HR</td>\n",
       "    </tr>\n",
       "    <tr>\n",
       "      <th>5</th>\n",
       "      <td>106</td>\n",
       "      <td>Meera</td>\n",
       "      <td>Marketing</td>\n",
       "    </tr>\n",
       "    <tr>\n",
       "      <th>6</th>\n",
       "      <td>107</td>\n",
       "      <td>Kavya</td>\n",
       "      <td>Finance</td>\n",
       "    </tr>\n",
       "    <tr>\n",
       "      <th>7</th>\n",
       "      <td>108</td>\n",
       "      <td>Amit</td>\n",
       "      <td>Operations</td>\n",
       "    </tr>\n",
       "  </tbody>\n",
       "</table>\n",
       "</div>"
      ],
      "text/plain": [
       "   Emp_ID   Name  Department\n",
       "0     101  Aarav          IT\n",
       "1     102   Diya          HR\n",
       "2     103  Rohan     Finance\n",
       "3     104  Sneha          IT\n",
       "4     105  Rahul          HR\n",
       "5     106  Meera   Marketing\n",
       "6     107  Kavya     Finance\n",
       "7     108   Amit  Operations"
      ]
     },
     "execution_count": 6,
     "metadata": {},
     "output_type": "execute_result"
    }
   ],
   "source": [
    "df1.head(8)"
   ]
  },
  {
   "cell_type": "code",
   "execution_count": null,
   "id": "e0ebcf04",
   "metadata": {},
   "outputs": [
    {
     "data": {
      "text/html": [
       "<div>\n",
       "<style scoped>\n",
       "    .dataframe tbody tr th:only-of-type {\n",
       "        vertical-align: middle;\n",
       "    }\n",
       "\n",
       "    .dataframe tbody tr th {\n",
       "        vertical-align: top;\n",
       "    }\n",
       "\n",
       "    .dataframe thead th {\n",
       "        text-align: right;\n",
       "    }\n",
       "</style>\n",
       "<table border=\"1\" class=\"dataframe\">\n",
       "  <thead>\n",
       "    <tr style=\"text-align: right;\">\n",
       "      <th></th>\n",
       "      <th>Emp_ID</th>\n",
       "      <th>Salary</th>\n",
       "      <th>Location</th>\n",
       "    </tr>\n",
       "  </thead>\n",
       "  <tbody>\n",
       "    <tr>\n",
       "      <th>0</th>\n",
       "      <td>103</td>\n",
       "      <td>72000</td>\n",
       "      <td>Delhi</td>\n",
       "    </tr>\n",
       "    <tr>\n",
       "      <th>1</th>\n",
       "      <td>104</td>\n",
       "      <td>65000</td>\n",
       "      <td>Mumbai</td>\n",
       "    </tr>\n",
       "    <tr>\n",
       "      <th>2</th>\n",
       "      <td>105</td>\n",
       "      <td>56000</td>\n",
       "      <td>Chennai</td>\n",
       "    </tr>\n",
       "    <tr>\n",
       "      <th>3</th>\n",
       "      <td>106</td>\n",
       "      <td>90000</td>\n",
       "      <td>Bangalore</td>\n",
       "    </tr>\n",
       "    <tr>\n",
       "      <th>4</th>\n",
       "      <td>107</td>\n",
       "      <td>75000</td>\n",
       "      <td>Hyderabad</td>\n",
       "    </tr>\n",
       "    <tr>\n",
       "      <th>5</th>\n",
       "      <td>108</td>\n",
       "      <td>82000</td>\n",
       "      <td>Pune</td>\n",
       "    </tr>\n",
       "    <tr>\n",
       "      <th>6</th>\n",
       "      <td>109</td>\n",
       "      <td>68000</td>\n",
       "      <td>Kolkata</td>\n",
       "    </tr>\n",
       "    <tr>\n",
       "      <th>7</th>\n",
       "      <td>110</td>\n",
       "      <td>70000</td>\n",
       "      <td>Jaipur</td>\n",
       "    </tr>\n",
       "  </tbody>\n",
       "</table>\n",
       "</div>"
      ],
      "text/plain": [
       "   Emp_ID  Salary   Location\n",
       "0     103   72000      Delhi\n",
       "1     104   65000     Mumbai\n",
       "2     105   56000    Chennai\n",
       "3     106   90000  Bangalore\n",
       "4     107   75000  Hyderabad\n",
       "5     108   82000       Pune\n",
       "6     109   68000    Kolkata\n",
       "7     110   70000     Jaipur"
      ]
     },
     "execution_count": 8,
     "metadata": {},
     "output_type": "execute_result"
    }
   ],
   "source": [
    "df2.head(8)"
   ]
  },
  {
   "cell_type": "markdown",
   "id": "86fecf00",
   "metadata": {},
   "source": [
    "Operations:\n",
    "\n",
    "Inner=>Intersection=>Keeps only matching rows.\n",
    "\n",
    "Outer Join=>Union=> Keeps all rows from both data frames, filling NAN for unmatched rows.\n",
    "\n",
    "Left Join=>Keeps all rows from left data frame and matching rows from right.\n",
    "\n",
    "Right Join=> Keeps all rows from right data frame and matching rows from left.\n",
    "\n",
    "Common values + left data frame values\n",
    "\n",
    "df1     df2"
   ]
  },
  {
   "cell_type": "code",
   "execution_count": 12,
   "id": "7f7d3e6f",
   "metadata": {},
   "outputs": [
    {
     "data": {
      "text/plain": [
       "Index(['Emp_ID', 'Name', 'Department'], dtype='object')"
      ]
     },
     "execution_count": 12,
     "metadata": {},
     "output_type": "execute_result"
    }
   ],
   "source": [
    "df1.columns"
   ]
  },
  {
   "cell_type": "code",
   "execution_count": 11,
   "id": "dbfcf5ea",
   "metadata": {},
   "outputs": [
    {
     "data": {
      "text/plain": [
       "Index(['Emp_ID', 'Salary', 'Location'], dtype='object')"
      ]
     },
     "execution_count": 11,
     "metadata": {},
     "output_type": "execute_result"
    }
   ],
   "source": [
    "df2.columns"
   ]
  },
  {
   "cell_type": "code",
   "execution_count": 13,
   "id": "b3d61fbd",
   "metadata": {},
   "outputs": [
    {
     "name": "stdout",
     "output_type": "stream",
     "text": [
      "*****INNER JOIN*****\n",
      "   Emp_ID   Name  Department  Salary   Location\n",
      "0     103  Rohan     Finance   72000      Delhi\n",
      "1     104  Sneha          IT   65000     Mumbai\n",
      "2     105  Rahul          HR   56000    Chennai\n",
      "3     106  Meera   Marketing   90000  Bangalore\n",
      "4     107  Kavya     Finance   75000  Hyderabad\n",
      "5     108   Amit  Operations   82000       Pune\n"
     ]
    }
   ],
   "source": [
    "inner_join=pd.merge(df1,df2, on=\"Emp_ID\" , how=\"inner\") # on=>based on common atrribute we are merging data frame\n",
    "print(\"*****INNER JOIN*****\")\n",
    "print(inner_join)"
   ]
  },
  {
   "cell_type": "code",
   "execution_count": 14,
   "id": "3ad1c9ce",
   "metadata": {},
   "outputs": [
    {
     "name": "stdout",
     "output_type": "stream",
     "text": [
      "   Emp_ID   Name  Department   Salary   Location\n",
      "0     101  Aarav          IT      NaN        NaN\n",
      "1     102   Diya          HR      NaN        NaN\n",
      "2     103  Rohan     Finance  72000.0      Delhi\n",
      "3     104  Sneha          IT  65000.0     Mumbai\n",
      "4     105  Rahul          HR  56000.0    Chennai\n",
      "5     106  Meera   Marketing  90000.0  Bangalore\n",
      "6     107  Kavya     Finance  75000.0  Hyderabad\n",
      "7     108   Amit  Operations  82000.0       Pune\n",
      "8     109    NaN         NaN  68000.0    Kolkata\n",
      "9     110    NaN         NaN  70000.0     Jaipur\n"
     ]
    }
   ],
   "source": [
    "outer_join=pd.merge(df1,df2, on=\"Emp_ID\" , how=\"outer\")\n",
    "print(outer_join)\n"
   ]
  },
  {
   "cell_type": "code",
   "execution_count": 18,
   "id": "d7f4abe5",
   "metadata": {},
   "outputs": [
    {
     "name": "stdout",
     "output_type": "stream",
     "text": [
      "   Emp_ID   Name  Department   Salary   Location\n",
      "0     101  Aarav          IT      NaN        NaN\n",
      "1     102   Diya          HR      NaN        NaN\n",
      "2     103  Rohan     Finance  72000.0      Delhi\n",
      "3     104  Sneha          IT  65000.0     Mumbai\n",
      "4     105  Rahul          HR  56000.0    Chennai\n",
      "5     106  Meera   Marketing  90000.0  Bangalore\n",
      "6     107  Kavya     Finance  75000.0  Hyderabad\n",
      "7     108   Amit  Operations  82000.0       Pune\n"
     ]
    }
   ],
   "source": [
    "left_join=pd.merge(df1,df2, on=\"Emp_ID\" , how=\"left\")\n",
    "print(left_join)\n"
   ]
  },
  {
   "cell_type": "code",
   "execution_count": 19,
   "id": "200cd49b",
   "metadata": {},
   "outputs": [
    {
     "name": "stdout",
     "output_type": "stream",
     "text": [
      "   Emp_ID   Name  Department  Salary   Location\n",
      "0     103  Rohan     Finance   72000      Delhi\n",
      "1     104  Sneha          IT   65000     Mumbai\n",
      "2     105  Rahul          HR   56000    Chennai\n",
      "3     106  Meera   Marketing   90000  Bangalore\n",
      "4     107  Kavya     Finance   75000  Hyderabad\n",
      "5     108   Amit  Operations   82000       Pune\n",
      "6     109    NaN         NaN   68000    Kolkata\n",
      "7     110    NaN         NaN   70000     Jaipur\n"
     ]
    }
   ],
   "source": [
    "right_join=pd.merge(df1,df2, on=\"Emp_ID\" , how=\"right\")\n",
    "print(right_join)\n"
   ]
  },
  {
   "cell_type": "code",
   "execution_count": 27,
   "id": "cc416493",
   "metadata": {},
   "outputs": [
    {
     "data": {
      "text/plain": [
       "<bound method GroupBy.mean of <pandas.core.groupby.generic.SeriesGroupBy object at 0x0000022FAB4E6190>>"
      ]
     },
     "execution_count": 27,
     "metadata": {},
     "output_type": "execute_result"
    }
   ],
   "source": [
    "grouped=df3.groupby(\"Department\")\n",
    "grouped[\"Salary\"].mean\n",
    "# print(grouped)"
   ]
  },
  {
   "cell_type": "code",
   "execution_count": 24,
   "id": "41c8b503",
   "metadata": {},
   "outputs": [
    {
     "data": {
      "text/html": [
       "<div>\n",
       "<style scoped>\n",
       "    .dataframe tbody tr th:only-of-type {\n",
       "        vertical-align: middle;\n",
       "    }\n",
       "\n",
       "    .dataframe tbody tr th {\n",
       "        vertical-align: top;\n",
       "    }\n",
       "\n",
       "    .dataframe thead th {\n",
       "        text-align: right;\n",
       "    }\n",
       "</style>\n",
       "<table border=\"1\" class=\"dataframe\">\n",
       "  <thead>\n",
       "    <tr style=\"text-align: right;\">\n",
       "      <th></th>\n",
       "      <th>mean</th>\n",
       "      <th>min</th>\n",
       "      <th>max</th>\n",
       "    </tr>\n",
       "    <tr>\n",
       "      <th>Department</th>\n",
       "      <th></th>\n",
       "      <th></th>\n",
       "      <th></th>\n",
       "    </tr>\n",
       "  </thead>\n",
       "  <tbody>\n",
       "    <tr>\n",
       "      <th>Finance</th>\n",
       "      <td>69503.67</td>\n",
       "      <td>50397</td>\n",
       "      <td>88074</td>\n",
       "    </tr>\n",
       "    <tr>\n",
       "      <th>HR</th>\n",
       "      <td>75932.12</td>\n",
       "      <td>59688</td>\n",
       "      <td>105811</td>\n",
       "    </tr>\n",
       "    <tr>\n",
       "      <th>IT</th>\n",
       "      <td>84138.00</td>\n",
       "      <td>69235</td>\n",
       "      <td>99134</td>\n",
       "    </tr>\n",
       "    <tr>\n",
       "      <th>Marketing</th>\n",
       "      <td>92313.50</td>\n",
       "      <td>73435</td>\n",
       "      <td>101648</td>\n",
       "    </tr>\n",
       "    <tr>\n",
       "      <th>Operations</th>\n",
       "      <td>82746.86</td>\n",
       "      <td>50317</td>\n",
       "      <td>117280</td>\n",
       "    </tr>\n",
       "  </tbody>\n",
       "</table>\n",
       "</div>"
      ],
      "text/plain": [
       "                mean    min     max\n",
       "Department                         \n",
       "Finance     69503.67  50397   88074\n",
       "HR          75932.12  59688  105811\n",
       "IT          84138.00  69235   99134\n",
       "Marketing   92313.50  73435  101648\n",
       "Operations  82746.86  50317  117280"
      ]
     },
     "execution_count": 24,
     "metadata": {},
     "output_type": "execute_result"
    }
   ],
   "source": [
    "grouped[\"Salary\"].agg([\"mean\" , \"min\", \"max\"]).round(2)"
   ]
  },
  {
   "cell_type": "code",
   "execution_count": 28,
   "id": "fec96cc7",
   "metadata": {},
   "outputs": [
    {
     "data": {
      "text/html": [
       "<div>\n",
       "<style scoped>\n",
       "    .dataframe tbody tr th:only-of-type {\n",
       "        vertical-align: middle;\n",
       "    }\n",
       "\n",
       "    .dataframe tbody tr th {\n",
       "        vertical-align: top;\n",
       "    }\n",
       "\n",
       "    .dataframe thead th {\n",
       "        text-align: right;\n",
       "    }\n",
       "</style>\n",
       "<table border=\"1\" class=\"dataframe\">\n",
       "  <thead>\n",
       "    <tr style=\"text-align: right;\">\n",
       "      <th></th>\n",
       "      <th>Department</th>\n",
       "      <th>Employee</th>\n",
       "      <th>Salary</th>\n",
       "    </tr>\n",
       "  </thead>\n",
       "  <tbody>\n",
       "    <tr>\n",
       "      <th>0</th>\n",
       "      <td>HR</td>\n",
       "      <td>Aarav</td>\n",
       "      <td>74126</td>\n",
       "    </tr>\n",
       "    <tr>\n",
       "      <th>1</th>\n",
       "      <td>Marketing</td>\n",
       "      <td>Vivaan</td>\n",
       "      <td>100580</td>\n",
       "    </tr>\n",
       "    <tr>\n",
       "      <th>2</th>\n",
       "      <td>Finance</td>\n",
       "      <td>Aditya</td>\n",
       "      <td>84363</td>\n",
       "    </tr>\n",
       "    <tr>\n",
       "      <th>3</th>\n",
       "      <td>HR</td>\n",
       "      <td>Vihaan</td>\n",
       "      <td>77793</td>\n",
       "    </tr>\n",
       "    <tr>\n",
       "      <th>4</th>\n",
       "      <td>Finance</td>\n",
       "      <td>Arjun</td>\n",
       "      <td>50397</td>\n",
       "    </tr>\n",
       "    <tr>\n",
       "      <th>5</th>\n",
       "      <td>IT</td>\n",
       "      <td>Sai</td>\n",
       "      <td>99134</td>\n",
       "    </tr>\n",
       "    <tr>\n",
       "      <th>6</th>\n",
       "      <td>HR</td>\n",
       "      <td>Krishna</td>\n",
       "      <td>67772</td>\n",
       "    </tr>\n",
       "    <tr>\n",
       "      <th>7</th>\n",
       "      <td>Operations</td>\n",
       "      <td>Ishaan</td>\n",
       "      <td>115962</td>\n",
       "    </tr>\n",
       "    <tr>\n",
       "      <th>8</th>\n",
       "      <td>Marketing</td>\n",
       "      <td>Rohan</td>\n",
       "      <td>101648</td>\n",
       "    </tr>\n",
       "    <tr>\n",
       "      <th>9</th>\n",
       "      <td>IT</td>\n",
       "      <td>Aryan</td>\n",
       "      <td>99067</td>\n",
       "    </tr>\n",
       "    <tr>\n",
       "      <th>10</th>\n",
       "      <td>Operations</td>\n",
       "      <td>Ananya</td>\n",
       "      <td>57501</td>\n",
       "    </tr>\n",
       "    <tr>\n",
       "      <th>11</th>\n",
       "      <td>IT</td>\n",
       "      <td>Diya</td>\n",
       "      <td>69235</td>\n",
       "    </tr>\n",
       "    <tr>\n",
       "      <th>12</th>\n",
       "      <td>Marketing</td>\n",
       "      <td>Isha</td>\n",
       "      <td>93591</td>\n",
       "    </tr>\n",
       "    <tr>\n",
       "      <th>13</th>\n",
       "      <td>HR</td>\n",
       "      <td>Saanvi</td>\n",
       "      <td>73368</td>\n",
       "    </tr>\n",
       "    <tr>\n",
       "      <th>14</th>\n",
       "      <td>Marketing</td>\n",
       "      <td>Kavya</td>\n",
       "      <td>73435</td>\n",
       "    </tr>\n",
       "    <tr>\n",
       "      <th>15</th>\n",
       "      <td>IT</td>\n",
       "      <td>Aditi</td>\n",
       "      <td>71246</td>\n",
       "    </tr>\n",
       "    <tr>\n",
       "      <th>16</th>\n",
       "      <td>Operations</td>\n",
       "      <td>Nisha</td>\n",
       "      <td>117280</td>\n",
       "    </tr>\n",
       "    <tr>\n",
       "      <th>17</th>\n",
       "      <td>Operations</td>\n",
       "      <td>Priya</td>\n",
       "      <td>97869</td>\n",
       "    </tr>\n",
       "    <tr>\n",
       "      <th>18</th>\n",
       "      <td>HR</td>\n",
       "      <td>Sneha</td>\n",
       "      <td>83633</td>\n",
       "    </tr>\n",
       "    <tr>\n",
       "      <th>19</th>\n",
       "      <td>IT</td>\n",
       "      <td>Meera</td>\n",
       "      <td>82008</td>\n",
       "    </tr>\n",
       "    <tr>\n",
       "      <th>20</th>\n",
       "      <td>HR</td>\n",
       "      <td>Riya</td>\n",
       "      <td>65266</td>\n",
       "    </tr>\n",
       "    <tr>\n",
       "      <th>21</th>\n",
       "      <td>HR</td>\n",
       "      <td>Neha</td>\n",
       "      <td>105811</td>\n",
       "    </tr>\n",
       "    <tr>\n",
       "      <th>22</th>\n",
       "      <td>Finance</td>\n",
       "      <td>Pooja</td>\n",
       "      <td>88074</td>\n",
       "    </tr>\n",
       "    <tr>\n",
       "      <th>23</th>\n",
       "      <td>Finance</td>\n",
       "      <td>Anjali</td>\n",
       "      <td>88036</td>\n",
       "    </tr>\n",
       "    <tr>\n",
       "      <th>24</th>\n",
       "      <td>Finance</td>\n",
       "      <td>Simran</td>\n",
       "      <td>52537</td>\n",
       "    </tr>\n",
       "    <tr>\n",
       "      <th>25</th>\n",
       "      <td>Finance</td>\n",
       "      <td>Tanya</td>\n",
       "      <td>53615</td>\n",
       "    </tr>\n",
       "    <tr>\n",
       "      <th>26</th>\n",
       "      <td>Operations</td>\n",
       "      <td>Manish</td>\n",
       "      <td>50317</td>\n",
       "    </tr>\n",
       "    <tr>\n",
       "      <th>27</th>\n",
       "      <td>Operations</td>\n",
       "      <td>Rahul</td>\n",
       "      <td>84392</td>\n",
       "    </tr>\n",
       "    <tr>\n",
       "      <th>28</th>\n",
       "      <td>Operations</td>\n",
       "      <td>Amit</td>\n",
       "      <td>55907</td>\n",
       "    </tr>\n",
       "    <tr>\n",
       "      <th>29</th>\n",
       "      <td>HR</td>\n",
       "      <td>Suresh</td>\n",
       "      <td>59688</td>\n",
       "    </tr>\n",
       "  </tbody>\n",
       "</table>\n",
       "</div>"
      ],
      "text/plain": [
       "    Department Employee  Salary\n",
       "0           HR    Aarav   74126\n",
       "1    Marketing   Vivaan  100580\n",
       "2      Finance   Aditya   84363\n",
       "3           HR   Vihaan   77793\n",
       "4      Finance    Arjun   50397\n",
       "5           IT      Sai   99134\n",
       "6           HR  Krishna   67772\n",
       "7   Operations   Ishaan  115962\n",
       "8    Marketing    Rohan  101648\n",
       "9           IT    Aryan   99067\n",
       "10  Operations   Ananya   57501\n",
       "11          IT     Diya   69235\n",
       "12   Marketing     Isha   93591\n",
       "13          HR   Saanvi   73368\n",
       "14   Marketing    Kavya   73435\n",
       "15          IT    Aditi   71246\n",
       "16  Operations    Nisha  117280\n",
       "17  Operations    Priya   97869\n",
       "18          HR    Sneha   83633\n",
       "19          IT    Meera   82008\n",
       "20          HR     Riya   65266\n",
       "21          HR     Neha  105811\n",
       "22     Finance    Pooja   88074\n",
       "23     Finance   Anjali   88036\n",
       "24     Finance   Simran   52537\n",
       "25     Finance    Tanya   53615\n",
       "26  Operations   Manish   50317\n",
       "27  Operations    Rahul   84392\n",
       "28  Operations     Amit   55907\n",
       "29          HR   Suresh   59688"
      ]
     },
     "execution_count": 28,
     "metadata": {},
     "output_type": "execute_result"
    }
   ],
   "source": [
    "grouped.filter(lambda x:x[\"Salary\"].mean()> 60000)"
   ]
  }
 ],
 "metadata": {
  "kernelspec": {
   "display_name": "Python 3",
   "language": "python",
   "name": "python3"
  },
  "language_info": {
   "codemirror_mode": {
    "name": "ipython",
    "version": 3
   },
   "file_extension": ".py",
   "mimetype": "text/x-python",
   "name": "python",
   "nbconvert_exporter": "python",
   "pygments_lexer": "ipython3",
   "version": "3.13.3"
  }
 },
 "nbformat": 4,
 "nbformat_minor": 5
}
