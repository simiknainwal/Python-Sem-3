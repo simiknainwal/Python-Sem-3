{
 "cells": [
  {
   "cell_type": "code",
   "execution_count": 1,
   "id": "977655a1",
   "metadata": {},
   "outputs": [],
   "source": [
    "#The key function for working with files in Python is open() function.\n",
    "#The open() function takes two parameters: filename and mode.\n",
    "\n",
    "#                   ****** Modes for opening a file ******\n",
    "# \"r\"- Read- Default value.Opens a file for reading, error if file doesn't exist.\n",
    "# \"a\"- Append- Opens a file for appending, creates the file if it does not exist.\n",
    "# \"w\"- Write- Opens a file for writing, creates a file if it doesn't exist.\n",
    "# \"x\"- Create- Creates the specified file, returns an error if it doesn't exist.\n",
    "\n",
    "# ****** Data ******\n",
    "# \"t\"- Text- Default value.Text mode.\n",
    "# \"b\"- Binary- Binary mode(e.g. images)"
   ]
  },
  {
   "cell_type": "code",
   "execution_count": 5,
   "id": "f8c4bb59",
   "metadata": {},
   "outputs": [
    {
     "name": "stdout",
     "output_type": "stream",
     "text": [
      "A B C D E F G H\n",
      "I J K L M N O P\n",
      "Q R S T U V W X Y Z\n"
     ]
    }
   ],
   "source": [
    "f=open(\"alpha.txt\",\"rt\") #file name is alpha.txt and mentioning 't' in \"rt\" is optional.\n",
    "print(f.read())\n"
   ]
  },
  {
   "cell_type": "code",
   "execution_count": 6,
   "id": "d7bdaf88",
   "metadata": {},
   "outputs": [
    {
     "name": "stdout",
     "output_type": "stream",
     "text": [
      "A B C D E \n"
     ]
    }
   ],
   "source": [
    "f=open(\"alpha.txt\",\"rt\")\n",
    "print(f.read(10)) #reads 10 characters from the file."
   ]
  },
  {
   "cell_type": "code",
   "execution_count": null,
   "id": "f360e094",
   "metadata": {},
   "outputs": [
    {
     "name": "stdout",
     "output_type": "stream",
     "text": [
      "A B C D E F G H\n",
      "\n",
      "I J K L M N O P\n",
      "\n",
      "Q R S T U V W X Y Z\n"
     ]
    }
   ],
   "source": [
    "f=open(\"alpha.txt\",\"rt\")\n",
    "print(f.readline())# reads the whole line until '\\n' is encountered.\n",
    "print(f.readline())\n",
    "print(f.readline())"
   ]
  },
  {
   "cell_type": "code",
   "execution_count": null,
   "id": "9c95b44a",
   "metadata": {},
   "outputs": [
    {
     "name": "stdout",
     "output_type": "stream",
     "text": [
      "['A B C D E F G H\\n', 'I J K L M N O P\\n', 'Q R S T U V W X Y Z']\n"
     ]
    }
   ],
   "source": [
    "f=open(\"alpha.txt\",\"rt\")\n",
    "print(f.readlines())# reads all the lines in a list"
   ]
  },
  {
   "cell_type": "code",
   "execution_count": null,
   "id": "7637a7df",
   "metadata": {},
   "outputs": [
    {
     "name": "stdout",
     "output_type": "stream",
     "text": [
      "A B C D E \n",
      "F G H\n",
      "I J K L M N O P\n",
      "Q R S T U V W X Y Z\n"
     ]
    }
   ],
   "source": [
    "f=open(\"alpha.txt\",\"rt\")\n",
    "print(f.read(10))# prints first 10 characters including space.\n",
    "print(f.read())# pointer is at 11th place so it will read the characters after that."
   ]
  },
  {
   "cell_type": "code",
   "execution_count": null,
   "id": "9628d867",
   "metadata": {},
   "outputs": [
    {
     "name": "stdout",
     "output_type": "stream",
     "text": [
      "A B C D E F G H\n",
      "\n",
      "I J K L M N O P\n",
      "\n",
      "Q R S T U V W X Y Z\n"
     ]
    }
   ],
   "source": [
    "f=open(\"alpha.txt\",\"rt\")\n",
    "for i in f:\n",
    "    print(i)# prints all the lines"
   ]
  }
 ],
 "metadata": {
  "kernelspec": {
   "display_name": "Python 3",
   "language": "python",
   "name": "python3"
  },
  "language_info": {
   "codemirror_mode": {
    "name": "ipython",
    "version": 3
   },
   "file_extension": ".py",
   "mimetype": "text/x-python",
   "name": "python",
   "nbconvert_exporter": "python",
   "pygments_lexer": "ipython3",
   "version": "3.13.3"
  }
 },
 "nbformat": 4,
 "nbformat_minor": 5
}
