{
 "cells": [
  {
   "cell_type": "code",
   "execution_count": null,
   "id": "154b00e8",
   "metadata": {},
   "outputs": [],
   "source": [
    "import re"
   ]
  },
  {
   "cell_type": "code",
   "execution_count": 10,
   "id": "bffc96ad",
   "metadata": {},
   "outputs": [
    {
     "name": "stdout",
     "output_type": "stream",
     "text": [
      "['9123456789', '6912345670']\n"
     ]
    }
   ],
   "source": [
    "import re\n",
    "f=open(\"mobile.txt\",\"r\")\n",
    "text=f.read()\n",
    "pattern=r'[6-9][0-9]{9}'\n",
    "match=re.findall(pattern,text)\n",
    "print(match)"
   ]
  },
  {
   "cell_type": "code",
   "execution_count": null,
   "id": "0c9ea05a",
   "metadata": {},
   "outputs": [
    {
     "name": "stdout",
     "output_type": "stream",
     "text": [
      "['248001', '34560']\n"
     ]
    }
   ],
   "source": [
    "import re \n",
    "f=open(\"picode.txt\",\"r\")\n",
    "text=f.read()\n",
    "pattern=r'[2-9][0-9]*'\n",
    "match=re.findall(pattern,text)\n",
    "print(match)"
   ]
  },
  {
   "cell_type": "code",
   "execution_count": 22,
   "id": "c9608abd",
   "metadata": {},
   "outputs": [
    {
     "data": {
      "text/plain": [
       "156"
      ]
     },
     "execution_count": 22,
     "metadata": {},
     "output_type": "execute_result"
    }
   ],
   "source": [
    "import re\n",
    "f=open(\"server.txt\",\"r\")\n",
    "text=f.read()\n",
    "pattern=r'\\d{1,3}\\.\\d{1,3}\\.\\d{1,3}\\.\\d{1,3}'\n",
    "match=re.findall(pattern,text)\n",
    "# print(match)\n",
    "f.close()\n",
    "f2=open(\"IPaddress.txt\",\"w\")\n",
    "f2.write(str(match))\n"
   ]
  },
  {
   "cell_type": "code",
   "execution_count": null,
   "id": "1dd41b4b",
   "metadata": {},
   "outputs": [],
   "source": []
  },
  {
   "cell_type": "code",
   "execution_count": 21,
   "id": "678acbfc",
   "metadata": {},
   "outputs": [
    {
     "name": "stdout",
     "output_type": "stream",
     "text": [
      "['cat']\n"
     ]
    }
   ],
   "source": [
    "import re\n",
    "text=\"cat category sdasdcatter\"\n",
    "pattern=r'cat\\b' # to get only 'cat' single word we use \\b. There must me no letters after ao before 'cat'\n",
    "match=re.findall(pattern,text)\n",
    "print(match)"
   ]
  }
 ],
 "metadata": {
  "kernelspec": {
   "display_name": "Python 3",
   "language": "python",
   "name": "python3"
  },
  "language_info": {
   "codemirror_mode": {
    "name": "ipython",
    "version": 3
   },
   "file_extension": ".py",
   "mimetype": "text/x-python",
   "name": "python",
   "nbconvert_exporter": "python",
   "pygments_lexer": "ipython3",
   "version": "3.13.3"
  }
 },
 "nbformat": 4,
 "nbformat_minor": 5
}
