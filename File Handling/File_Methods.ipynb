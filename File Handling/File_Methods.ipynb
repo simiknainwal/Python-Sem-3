{
 "cells": [
  {
   "cell_type": "code",
   "execution_count": 1,
   "id": "2600ad32",
   "metadata": {},
   "outputs": [
    {
     "name": "stdout",
     "output_type": "stream",
     "text": [
      "a \n",
      "False\n",
      "2\n",
      "6\n",
      "6\n",
      "d\n",
      "input.txt\n",
      "False\n"
     ]
    }
   ],
   "source": [
    "# f.name-> file name\n",
    "# f.mode-> mode in which file was opened.\n",
    "# f.closed-> check if file is closed.\n",
    "# f.tell()-> get current file pointer position.\n",
    "# f.seek(pos)-> move file pointer to position pos.\n",
    "\n",
    "# \"with\" keyword avoid closing a file.\n",
    "with open(\"input.txt\",'r') as f:\n",
    "        print(f.read(2))\n",
    "        # print(f.mode)\n",
    "        print(f.closed)\n",
    "        print(f.tell())# tells the current index (index starts from 0)\n",
    "        print(f.seek(6))# takes the pointer to third index\n",
    "        print(f.tell())\n",
    "        print(f.read())# reads from the third index only\n",
    "        print(f.name)# tells the name of the file 'f' is pointing to.\n",
    "        print(f.closed)"
   ]
  },
  {
   "cell_type": "code",
   "execution_count": 2,
   "id": "f8e5f597",
   "metadata": {},
   "outputs": [],
   "source": [
    "# f.seek(offset, reference)\n",
    "# reference tells from where pointer should move i.e. beginning(0), current(1) or end(2).\n",
    "# f.seek(-3,2) means from the end move 3 positions to left\n",
    "# f.seek(6,1) move 6 positions to right.\n",
    "# f.seek(-10,1) move 10 positions to left from current position."
   ]
  },
  {
   "cell_type": "code",
   "execution_count": 3,
   "id": "4a2d2d35",
   "metadata": {},
   "outputs": [],
   "source": [
    "# import os\n",
    "# os.remove(\"num.txt\")"
   ]
  },
  {
   "cell_type": "code",
   "execution_count": 4,
   "id": "7abbfed9",
   "metadata": {},
   "outputs": [
    {
     "ename": "FileNotFoundError",
     "evalue": "[Errno 2] No such file or directory: 'sample.png'",
     "output_type": "error",
     "traceback": [
      "\u001b[31m---------------------------------------------------------------------------\u001b[39m",
      "\u001b[31mFileNotFoundError\u001b[39m                         Traceback (most recent call last)",
      "\u001b[36mCell\u001b[39m\u001b[36m \u001b[39m\u001b[32mIn[4]\u001b[39m\u001b[32m, line 1\u001b[39m\n\u001b[32m----> \u001b[39m\u001b[32m1\u001b[39m f=\u001b[38;5;28;43mopen\u001b[39;49m\u001b[43m(\u001b[49m\u001b[33;43m\"\u001b[39;49m\u001b[33;43msample.png\u001b[39;49m\u001b[33;43m\"\u001b[39;49m\u001b[43m,\u001b[49m\u001b[33;43m\"\u001b[39;49m\u001b[33;43mrb\u001b[39;49m\u001b[33;43m\"\u001b[39;49m\u001b[43m)\u001b[49m \u001b[38;5;66;03m# for reading the binary file\u001b[39;00m\n",
      "\u001b[36mFile \u001b[39m\u001b[32m~\\AppData\\Roaming\\Python\\Python313\\site-packages\\IPython\\core\\interactiveshell.py:343\u001b[39m, in \u001b[36m_modified_open\u001b[39m\u001b[34m(file, *args, **kwargs)\u001b[39m\n\u001b[32m    336\u001b[39m \u001b[38;5;28;01mif\u001b[39;00m file \u001b[38;5;129;01min\u001b[39;00m {\u001b[32m0\u001b[39m, \u001b[32m1\u001b[39m, \u001b[32m2\u001b[39m}:\n\u001b[32m    337\u001b[39m     \u001b[38;5;28;01mraise\u001b[39;00m \u001b[38;5;167;01mValueError\u001b[39;00m(\n\u001b[32m    338\u001b[39m         \u001b[33mf\u001b[39m\u001b[33m\"\u001b[39m\u001b[33mIPython won\u001b[39m\u001b[33m'\u001b[39m\u001b[33mt let you open fd=\u001b[39m\u001b[38;5;132;01m{\u001b[39;00mfile\u001b[38;5;132;01m}\u001b[39;00m\u001b[33m by default \u001b[39m\u001b[33m\"\u001b[39m\n\u001b[32m    339\u001b[39m         \u001b[33m\"\u001b[39m\u001b[33mas it is likely to crash IPython. If you know what you are doing, \u001b[39m\u001b[33m\"\u001b[39m\n\u001b[32m    340\u001b[39m         \u001b[33m\"\u001b[39m\u001b[33myou can use builtins\u001b[39m\u001b[33m'\u001b[39m\u001b[33m open.\u001b[39m\u001b[33m\"\u001b[39m\n\u001b[32m    341\u001b[39m     )\n\u001b[32m--> \u001b[39m\u001b[32m343\u001b[39m \u001b[38;5;28;01mreturn\u001b[39;00m \u001b[43mio_open\u001b[49m\u001b[43m(\u001b[49m\u001b[43mfile\u001b[49m\u001b[43m,\u001b[49m\u001b[43m \u001b[49m\u001b[43m*\u001b[49m\u001b[43margs\u001b[49m\u001b[43m,\u001b[49m\u001b[43m \u001b[49m\u001b[43m*\u001b[49m\u001b[43m*\u001b[49m\u001b[43mkwargs\u001b[49m\u001b[43m)\u001b[49m\n",
      "\u001b[31mFileNotFoundError\u001b[39m: [Errno 2] No such file or directory: 'sample.png'"
     ]
    }
   ],
   "source": [
    "f=open(\"sample.png\",\"rb\") # for reading the binary file"
   ]
  },
  {
   "cell_type": "code",
   "execution_count": null,
   "id": "e41ad0cd",
   "metadata": {},
   "outputs": [
    {
     "name": "stdout",
     "output_type": "stream",
     "text": [
      "10\n",
      "66\n",
      "b're going to PBL'\n"
     ]
    }
   ],
   "source": [
    "#seek(P1,P2)\n",
    "#P1 indicates offset how much you want to move.\n",
    "#P2 indicates 0/1/2 start/current/end\n",
    "f1=open('alpha.txt','rb')\n",
    "f1.seek(10,1)\n",
    "print(f1.tell())\n",
    "f1.seek(56,1)\n",
    "print(f1.tell())\n",
    "f1.seek(-15,2)\n",
    "print(f1.read())\n"
   ]
  },
  {
   "cell_type": "code",
   "execution_count": 23,
   "id": "3a3ebf8f",
   "metadata": {},
   "outputs": [
    {
     "name": "stdout",
     "output_type": "stream",
     "text": [
      "20\n",
      "10\n",
      "40\n"
     ]
    }
   ],
   "source": [
    "f=open(\"alpha.txt\",\"r\")\n",
    "f.read(20)\n",
    "pos=f.tell()\n",
    "print(pos)\n",
    "f.seek(pos-10)\n",
    "pos=f.tell()\n",
    "print(pos)\n",
    "f.seek(pos+30)\n",
    "pos=f.tell()\n",
    "print(pos)"
   ]
  }
 ],
 "metadata": {
  "kernelspec": {
   "display_name": "Python 3",
   "language": "python",
   "name": "python3"
  },
  "language_info": {
   "codemirror_mode": {
    "name": "ipython",
    "version": 3
   },
   "file_extension": ".py",
   "mimetype": "text/x-python",
   "name": "python",
   "nbconvert_exporter": "python",
   "pygments_lexer": "ipython3",
   "version": "3.13.3"
  }
 },
 "nbformat": 4,
 "nbformat_minor": 5
}
