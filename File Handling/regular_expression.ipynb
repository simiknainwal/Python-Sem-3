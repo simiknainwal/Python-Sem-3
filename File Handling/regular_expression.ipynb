{
 "cells": [
  {
   "cell_type": "code",
   "execution_count": 1,
   "id": "c9a42975",
   "metadata": {},
   "outputs": [],
   "source": [
    "#****** Regular Expression ******\n",
    "# It is a special sequence of characters used to find, match or manipulate patterns.\n",
    "# regexmodule can be used with import re\n",
    "\n",
    "\n",
    "\n",
    "#****** Regex Functions ******\n",
    "# re.search(pattern,string)=> returns the first match object(or None), the pattern can be anywhere in the text.\n",
    "# re.match(pattern,string)=>checks only at beginning of string, if it isn't present at the begining then it will print None\n",
    "# re.findall(patten,string)=> returns all matches as a list(finds the pattern in complete text)\n",
    "# re.split(pattern,string)=> splits string by matches.\n",
    "# re.sub(pattern,replacement,string)=> replaces matches with something else.\n",
    "# re.compile()=> pre-compiles a regex for reuse"
   ]
  },
  {
   "cell_type": "code",
   "execution_count": 2,
   "id": "a6da23fe",
   "metadata": {},
   "outputs": [],
   "source": [
    "# ****** Meaning of symbols ******\n",
    "# '.'-> any character except newline.\n",
    "# '^'-> start of string.\n",
    "#'$' -> end of string.\n",
    "#'*'-> 0 or more repititions\n",
    "#'+'->1 or more repititions.\n",
    "#'?'->0 or 1 repitition.\n",
    "#'\\d'->Digit(0-9)\n",
    "#'\\D' -> Non-digit\n",
    "#'\\w'->word characters(letter,digit_)\n",
    "#'\\W'->Non word character.\n",
    "#'\\s'-> Wide space.\n",
    "#'\\S'->Non wide space.\n",
    "#'{n}'->Exactly n times\n",
    "#'{n,m}->Between n and m times.\n",
    "\n"
   ]
  },
  {
   "cell_type": "code",
   "execution_count": null,
   "id": "9a0e08fe",
   "metadata": {},
   "outputs": [
    {
     "name": "stdout",
     "output_type": "stream",
     "text": [
      "['python', 'python']\n"
     ]
    }
   ],
   "source": [
    "import re\n",
    "text=\"python is amazing and python is simple.\"\n",
    "match=re.search(\"python\",text)# gives starting and ending index of the first occurance of pattern.\n",
    "print(match)"
   ]
  },
  {
   "cell_type": "code",
   "execution_count": 4,
   "id": "4d46d71c",
   "metadata": {},
   "outputs": [
    {
     "name": "stdout",
     "output_type": "stream",
     "text": [
      "None\n"
     ]
    }
   ],
   "source": [
    "import re\n",
    "text=\"is amazing and python is simple.\"\n",
    "match=re.match(\"python\",text)# gives starting and ending index  of pattern which must be at the beginning of text.\n",
    "print(match)"
   ]
  },
  {
   "cell_type": "code",
   "execution_count": 5,
   "id": "75ba1edf",
   "metadata": {},
   "outputs": [
    {
     "name": "stdout",
     "output_type": "stream",
     "text": [
      "['python', 'python']\n"
     ]
    }
   ],
   "source": [
    "import re\n",
    "text=\"python is amazing and python is simple.\"\n",
    "match=re.findall(\"python\",text)\n",
    "print(match)"
   ]
  },
  {
   "cell_type": "code",
   "execution_count": 6,
   "id": "1205e862",
   "metadata": {},
   "outputs": [
    {
     "name": "stdout",
     "output_type": "stream",
     "text": [
      "['', ' is amazing and ', ' is simple.']\n"
     ]
    }
   ],
   "source": [
    "import re\n",
    "text=\"python is amazing and python is simple.\"\n",
    "match=re.split(\"python\",text)# splits the text based on pattern.\n",
    "print(match)"
   ]
  },
  {
   "cell_type": "code",
   "execution_count": 7,
   "id": "9a9b1fd0",
   "metadata": {},
   "outputs": [
    {
     "name": "stdout",
     "output_type": "stream",
     "text": [
      "Java is amazing and Java is simple.\n"
     ]
    }
   ],
   "source": [
    "import re\n",
    "text=\"python is amazing and python is simple.\"\n",
    "match=re.sub(\"python\",\"Java\",text)\n",
    "print(match)"
   ]
  },
  {
   "cell_type": "code",
   "execution_count": 8,
   "id": "9cc27554",
   "metadata": {},
   "outputs": [
    {
     "name": "stdout",
     "output_type": "stream",
     "text": [
      "['python', 'python']\n"
     ]
    }
   ],
   "source": [
    "import re\n",
    "text=\"python is amazing and python is simple.\"\n",
    "match=re.findall(\"python\",text)\n",
    "print(match)"
   ]
  },
  {
   "cell_type": "code",
   "execution_count": 9,
   "id": "e185daf3",
   "metadata": {},
   "outputs": [
    {
     "name": "stdout",
     "output_type": "stream",
     "text": [
      "['3', '6', '6']\n",
      "['3', '66']\n"
     ]
    }
   ],
   "source": [
    "text=\"My name is Lia, student of 3rd sem, roll number is 66\"\n",
    "match1=re.findall(r'\\d',text)#finds the digits inside text\n",
    "match2=re.findall(r'\\d+',text)#finds the digits inside text without separating them.\n",
    "print(match1)\n",
    "print(match2)"
   ]
  },
  {
   "cell_type": "code",
   "execution_count": 10,
   "id": "26290c60",
   "metadata": {},
   "outputs": [
    {
     "name": "stdout",
     "output_type": "stream",
     "text": [
      "['son', 'soon', 'soooon', 'sooooooooon', 'soooon']\n",
      "['son', 'sn']\n",
      "['son', 'soon', 'soooon', 'sooooooooon', 'soooon', 'sn']\n",
      "['son', 'sun', 's n', 's\\tn']\n",
      "['son', 'soon', 'soooon', 'soooon']\n"
     ]
    }
   ],
   "source": [
    "text=\"son soon soooon sooooooooon soooon sun sn s n s\\tn s\\nn\"\n",
    "match1=re.findall(r'so+n',text)# '+' indicates one or more time repitition.\n",
    "match2=re.findall(r'so?n',text)# 0 or 1\n",
    "match3=re.findall(r'so*n',text)# 0 or more\n",
    "match4=re.findall(r's.n',text)# '.' matches with only one character not more.\n",
    "match5=re.findall(r'so{1,4}n',text)\n",
    "print(match1)\n",
    "print(match2)\n",
    "print(match3)\n",
    "print(match4)\n",
    "print(match5)"
   ]
  },
  {
   "cell_type": "code",
   "execution_count": 11,
   "id": "833c437f",
   "metadata": {},
   "outputs": [
    {
     "name": "stdout",
     "output_type": "stream",
     "text": [
      "['04-09-2025']\n"
     ]
    }
   ],
   "source": [
    "text=\"today date is 04-09-2025, wrong date is 1111-2222-2025\"\n",
    "match=re.findall(r'\\d{1,2}-\\d{1,2}-\\d{4}',text)\n",
    "print(match)"
   ]
  },
  {
   "cell_type": "code",
   "execution_count": 12,
   "id": "26a79577",
   "metadata": {},
   "outputs": [
    {
     "name": "stdout",
     "output_type": "stream",
     "text": [
      "['323', '32', '9.2', '5.75', '60.3']\n"
     ]
    }
   ],
   "source": [
    "text=\"I am a 323rd sem student, roll number is 32, cgpa is 9.2, height is 5.75, weight is 60.3\"\n",
    "match=re.findall(r'\\d+\\.?\\d*',text)# '\\.' behaves as a simple dot.\n",
    "print(match)"
   ]
  },
  {
   "cell_type": "code",
   "execution_count": 13,
   "id": "88973e71",
   "metadata": {},
   "outputs": [
    {
     "name": "stdout",
     "output_type": "stream",
     "text": [
      "ria sharma True\n",
      "Sachin tendulkar True\n",
      "123alia False\n",
      "dhoni True\n",
      "Aa d True\n"
     ]
    }
   ],
   "source": [
    "names=[\"ria sharma\",\"Sachin tendulkar\",\"123alia\",\"dhoni\",\"Aa d\"]\n",
    "pattern=r'[a-zA-Z][a-zA-Z' ']+'\n",
    "for i in names:\n",
    "    # match=re.findall(pattern,i)\n",
    "    print(i,bool(re.match(pattern,i)) )   \n",
    "# match=re.findall(r'',names[i])\n"
   ]
  },
  {
   "cell_type": "code",
   "execution_count": 16,
   "id": "2036087e",
   "metadata": {},
   "outputs": [
    {
     "name": "stdout",
     "output_type": "stream",
     "text": [
      "a True\n",
      "abc True\n",
      "__abc True\n",
      "1a False\n",
      "&absd False\n",
      "a_b True\n"
     ]
    }
   ],
   "source": [
    "import re\n",
    "variable=['a','abc','__abc','1a','&absd','a_b']\n",
    "pattern=r'_*[a-zA-Z][a-zA-Z]*'\n",
    "for i in variable:\n",
    "    print(i,bool(re.match(pattern,i)))"
   ]
  },
  {
   "cell_type": "code",
   "execution_count": 31,
   "id": "4d277919",
   "metadata": {},
   "outputs": [
    {
     "name": "stdout",
     "output_type": "stream",
     "text": [
      "abc@gmail.com True\n",
      "12a@gmail.com False\n",
      "abc_def@gmail.com True\n",
      "$3qwe@gmail.com False\n"
     ]
    }
   ],
   "source": [
    "import re\n",
    "emails=['abc@gmail.com','12a@gmail.com','abc_def@gmail.com','$3qwe@gmail.com']\n",
    "pattern=r'[a-zA-Z]+_*[a-zA-Z0-9]*@gmail.com'\n",
    "for i in emails:\n",
    "    print(i,bool(re.match(pattern,i)))"
   ]
  }
 ],
 "metadata": {
  "kernelspec": {
   "display_name": "Python 3",
   "language": "python",
   "name": "python3"
  },
  "language_info": {
   "codemirror_mode": {
    "name": "ipython",
    "version": 3
   },
   "file_extension": ".py",
   "mimetype": "text/x-python",
   "name": "python",
   "nbconvert_exporter": "python",
   "pygments_lexer": "ipython3",
   "version": "3.13.3"
  }
 },
 "nbformat": 4,
 "nbformat_minor": 5
}
