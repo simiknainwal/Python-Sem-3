{
 "cells": [
  {
   "cell_type": "markdown",
   "id": "96ae7277",
   "metadata": {},
   "source": [
    "Python Access Modifiers\n",
    "\n",
    "For variables\n",
    "\n",
    "__sum  Private\n",
    "\n",
    "_sum  Protected\n",
    "\n",
    "sum  Public\n",
    "\n",
    "For functions\n",
    "\n",
    "__add()  Private\n",
    "\n",
    "_add()  Protected\n",
    "\n",
    "add()  Public"
   ]
  },
  {
   "cell_type": "markdown",
   "id": "6e704f7f",
   "metadata": {},
   "source": [
    "The access modifiers is used to restrict access to different methods or variables.\n",
    "\n",
    "By default all members are public\n",
    "\n"
   ]
  },
  {
   "cell_type": "markdown",
   "id": "09078e43",
   "metadata": {},
   "source": [
    "Public: Accessible anywhere.\n",
    "\n",
    "Private: Accessible only within the class \n",
    "\n",
    "Protected: Accessible within the class and subclasses"
   ]
  },
  {
   "cell_type": "code",
   "execution_count": null,
   "id": "2f29317e",
   "metadata": {},
   "outputs": [
    {
     "name": "stdout",
     "output_type": "stream",
     "text": [
      "123123\n",
      "Simik\n",
      "912213\n",
      "3\n",
      "66\n",
      "-----Outside Class-----\n",
      "123123\n",
      "Simik\n",
      "912213\n"
     ]
    }
   ],
   "source": [
    "class Person:\n",
    "    def __init__(self,name,aadhaar,phone):\n",
    "        self.name=name  #public\n",
    "        self._aadhaar=aadhaar  #protected\n",
    "        self.__phone=phone  #private\n",
    "    \n",
    "    def show(self):\n",
    "        print(self.name)    \n",
    "        print(self._aadhaar)    \n",
    "        print(self.__phone)\n",
    "        \n",
    "class Student(Person):\n",
    "    def __init__(self,name,aadhaar,phone,sem,rollno):\n",
    "        super().__init__(aadhaar,name,phone)\n",
    "        self.sem=sem\n",
    "        self.rollno=rollno\n",
    "    \n",
    "    def display(self):\n",
    "        super().show()\n",
    "        print(self.sem)\n",
    "        print(self.rollno)\n",
    "    \n",
    "# o1=Person(\"Simik\",\"123123\",912213)\n",
    "# o1.show()\n",
    "o2=Student(\"Simik\",\"123123\",912213,3,66)\n",
    "o2.display()\n",
    "\n",
    "print(\"-----Outside Class-----\")\n",
    "print(o2.name)\n",
    "print(o2._aadhaar)\n",
    "print(o2._Person__phone) #Private values.\n",
    "                        "
   ]
  }
 ],
 "metadata": {
  "kernelspec": {
   "display_name": "Python 3",
   "language": "python",
   "name": "python3"
  },
  "language_info": {
   "codemirror_mode": {
    "name": "ipython",
    "version": 3
   },
   "file_extension": ".py",
   "mimetype": "text/x-python",
   "name": "python",
   "nbconvert_exporter": "python",
   "pygments_lexer": "ipython3",
   "version": "3.13.3"
  }
 },
 "nbformat": 4,
 "nbformat_minor": 5
}
