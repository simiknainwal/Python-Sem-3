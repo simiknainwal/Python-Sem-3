{
 "cells": [
  {
   "cell_type": "code",
   "execution_count": 8,
   "id": "25a72f1d",
   "metadata": {},
   "outputs": [
    {
     "name": "stdout",
     "output_type": "stream",
     "text": [
      "Simik\n",
      "3\n",
      "9\n",
      "piyush\n",
      "3\n",
      "10\n"
     ]
    }
   ],
   "source": [
    "class student:\n",
    "    # name=''\n",
    "    # sem=0\n",
    "    # cgpa=0.0\n",
    "    def read(self):#self is used as 'this' operator in C++\n",
    "        self.name=input(\"Enter your name:\")\n",
    "        self.sem=int(input(\"Enter your sem:\"))\n",
    "        self.cgpa=int(input(\"Enter your cgpa:\"))\n",
    "    \n",
    "    def display(self):#self is used to avoid confusion whether the interpreter will call which variable\n",
    "        print(self.name)\n",
    "        print(self.sem)\n",
    "        print(self.cgpa)\n",
    "    \n",
    "s1=student()#syntax to create an object in python\n",
    "s1.read()\n",
    "s1.display()\n",
    "s2=student()\n",
    "s2.read()\n",
    "s2.display()        "
   ]
  },
  {
   "cell_type": "code",
   "execution_count": 12,
   "id": "de04b78d",
   "metadata": {},
   "outputs": [
    {
     "name": "stdout",
     "output_type": "stream",
     "text": [
      "Saarthi\n",
      "3\n",
      "10\n",
      "Simik\n",
      "3\n",
      "9.4\n"
     ]
    }
   ],
   "source": [
    "#****** Constructors ******\n",
    "class student:\n",
    "    # name=''\n",
    "    # sem=0\n",
    "    # cgpa=0.0\n",
    "    def __init__(self,n='',s=0,c=0.0):#constructor name is not same as class name\n",
    "        self.name=n\n",
    "        self.sem=s\n",
    "        self.cgpa=c\n",
    "    \n",
    "    def read(self):#self is used as 'this' operator in C++\n",
    "        self.name=input(\"Enter your name:\")\n",
    "        self.sem=int(input(\"Enter your sem:\"))\n",
    "        self.cgpa=float(input(\"Enter your cgpa:\"))\n",
    "        \n",
    "    def display(self):#self is used to avoid confusion whether the interpreter will call which variable\n",
    "        print(self.name)\n",
    "        print(self.sem)\n",
    "        print(self.cgpa)\n",
    "\n",
    "s1=student(\"Saarthi\",3,10)\n",
    "s1.display()  \n",
    "s2=student()#for default constructor mention the default values in arguments or parameters\n",
    "s2.read()\n",
    "s2.display()  "
   ]
  },
  {
   "cell_type": "code",
   "execution_count": 3,
   "id": "d7c0d78f",
   "metadata": {},
   "outputs": [
    {
     "name": "stdout",
     "output_type": "stream",
     "text": [
      "Name is  ashish\n",
      "Semester is  4\n",
      "CGPA is  10\n",
      "Name is  simik\n",
      "Semester is  3\n",
      "CGPA is  8.8\n"
     ]
    }
   ],
   "source": [
    "class student:\n",
    "    def __init__(self,name=\"\",sem=0,cgpa=0.0):\n",
    "        self.name=name\n",
    "        self.sem=sem\n",
    "        self.cgpa=cgpa\n",
    "    def read(self):\n",
    "        self.name=input(\"Enter your name:\")\n",
    "        self.sem=int(input(\"Enter your semester:\"))\n",
    "        self.cgpa=float(input(\"Enter your cgpa:\"))\n",
    "    \n",
    "    def display(self):\n",
    "        print(\"Name is \",self.name)    \n",
    "        print(\"Semester is \",self.sem)    \n",
    "        print(\"CGPA is \",self.cgpa)    \n",
    "    \n",
    "s1=student(\"ashish\",4,10)\n",
    "# s1.read()\n",
    "s1.display()\n",
    "s2=student()\n",
    "s2.read()\n",
    "s2.display()        "
   ]
  }
 ],
 "metadata": {
  "kernelspec": {
   "display_name": "Python 3",
   "language": "python",
   "name": "python3"
  },
  "language_info": {
   "codemirror_mode": {
    "name": "ipython",
    "version": 3
   },
   "file_extension": ".py",
   "mimetype": "text/x-python",
   "name": "python",
   "nbconvert_exporter": "python",
   "pygments_lexer": "ipython3",
   "version": "3.13.3"
  }
 },
 "nbformat": 4,
 "nbformat_minor": 5
}
