{
 "cells": [
  {
   "cell_type": "markdown",
   "id": "2d2dd509",
   "metadata": {},
   "source": [
    "****** Inheritance ******\n",
    "\n",
    "*Types of Inheritance\n",
    "\n",
    "Single Inheritance,\n",
    "Multiple Inheritance,\n",
    "Multilevel Inheritance,\n",
    "Hierarchical Inheritance and \n",
    "Hybrid Inheritance"
   ]
  },
  {
   "cell_type": "code",
   "execution_count": null,
   "id": "1599c3bc",
   "metadata": {},
   "outputs": [
    {
     "name": "stdout",
     "output_type": "stream",
     "text": [
      "Addition is  12\n",
      "Multiplication is  30\n",
      "Square is  25\n",
      "Square root is  6.0\n"
     ]
    }
   ],
   "source": [
    "class simple_cal:\n",
    "    def add(self,n1,n2):\n",
    "        self.num1=n1\n",
    "        self.num2=n2\n",
    "        self.sum=self.num1+self.num2\n",
    "        print(\"Addition is \",self.sum)\n",
    "    def mul(self,n1,n2):\n",
    "        self.num1=n1\n",
    "        self.num2=n2\n",
    "        self.mul=self.num1*self.num2\n",
    "        print(\"Multiplication is \",self.mul)\n",
    "\n",
    "class adv_cal(simple_cal):\n",
    "    def square(self,n1):\n",
    "        self.num1=n1\n",
    "        self.square=self.num1*self.num1\n",
    "        # self.mul(self.num1,self.num1)\n",
    "        print(\"Square is \",self.square)\n",
    "    \n",
    "    def sqroot(self,n1):\n",
    "        self.num1=n1\n",
    "        self.sqroot=self.num1**0.5\n",
    "        print(\"Square root is \",self.sqroot)    \n",
    "    \n",
    "# o1=simple_cal()\n",
    "# o1.add(3,5)  \n",
    "# o1.mul(5,6) \n",
    "\n",
    "\n",
    "o2=adv_cal()\n",
    "o2.add(3,9)  \n",
    "o2.mul(5,6) \n",
    "o2.square(5)\n",
    "o2.sqroot(36)"
   ]
  },
  {
   "cell_type": "markdown",
   "id": "f98fccb6",
   "metadata": {},
   "source": [
    "*Multiple Inhheritance\n",
    "\n",
    "One child class can inherit from multiple parent classes.So here is one child class and multiple parent classes."
   ]
  },
  {
   "cell_type": "code",
   "execution_count": 15,
   "id": "ff6a4471",
   "metadata": {},
   "outputs": [
    {
     "name": "stdout",
     "output_type": "stream",
     "text": [
      "Addition is  10\n",
      "Multiplication is  24\n",
      "Square is  100\n",
      "Square root is  2.8284271247461903\n"
     ]
    }
   ],
   "source": [
    "class basic_cal:\n",
    "    def add(self,n1,n2):\n",
    "        self.num1=n1\n",
    "        self.num2=n2\n",
    "        self.sum=self.num1+self.num2\n",
    "        print(\"Addition is \",self.sum)\n",
    "    def mul(self,n1,n2):\n",
    "        self.num1=n1\n",
    "        self.num2=n2\n",
    "        self.mul=self.num1*self.num2\n",
    "        print(\"Multiplication is \",self.mul)\n",
    "\n",
    "class adv_cal:\n",
    "    def square(self,n1):\n",
    "        self.num1=n1\n",
    "        self.square=self.num1*self.num1\n",
    "        # self.mul(self.num1,self.num1)\n",
    "        print(\"Square is \",self.square)\n",
    "    \n",
    "    def sqroot(self,n1):\n",
    "        self.num1=n1\n",
    "        self.sqroot=self.num1**0.5\n",
    "        print(\"Square root is \",self.sqroot)    \n",
    "\n",
    "class hybrid_cal(basic_cal,adv_cal):\n",
    "    pass\n",
    "\n",
    "o1=hybrid_cal()\n",
    "o1.add(4,6)\n",
    "o1.mul(4,6)\n",
    "o1.square(10)\n",
    "o1.sqroot(8)"
   ]
  },
  {
   "cell_type": "markdown",
   "id": "0967efcb",
   "metadata": {},
   "source": [
    "*Multilevel Ingeritance\n",
    "\n",
    "In this we have a parent class, child class1 and child class2\n",
    "\n",
    "class A:\n",
    "\n",
    "class B(A):\n",
    "\n",
    "class C(B):"
   ]
  },
  {
   "cell_type": "code",
   "execution_count": 16,
   "id": "6e9cc90d",
   "metadata": {},
   "outputs": [
    {
     "name": "stdout",
     "output_type": "stream",
     "text": [
      "Sum is  8\n"
     ]
    }
   ],
   "source": [
    "class Basic_Calculator:\n",
    "    def add(self,n1,n2):\n",
    "        self.num1=n1\n",
    "        self.num2=n2\n",
    "        self.sum=self.num1+self.num2\n",
    "        print(\"Sum is \",self.sum)\n",
    "    \n",
    "    def mul(self,n1,n2):\n",
    "        self.num1=n1\n",
    "        self.num2=n2\n",
    "        self.mul=self.num1*self.num2\n",
    "        print(\"Multiplication is \",self.mul)\n",
    "\n",
    "class Intermmediate_Calculator(Basic_Calculator):\n",
    "    \n",
    "    def modulus(self,n1,n2):\n",
    "        self.num1=n1\n",
    "        self.num2=n2\n",
    "        self.mod=self.num1%self.num2\n",
    "        print(\"Modulus is \",self.mod)\n",
    "        \n",
    "class Advanced_Calculator(Intermmediate_Calculator):\n",
    "    \n",
    "    def power(self,n1,n2):\n",
    "        self.num1=n1\n",
    "        self.num2=n2\n",
    "        self.power=self.n1**self.num2\n",
    "        print(\"Answer is \",self.power)\n",
    "        \n",
    "        \n",
    "o1=Advanced_Calculator()\n",
    "o1.add(3,5)"
   ]
  },
  {
   "cell_type": "markdown",
   "id": "e859520e",
   "metadata": {},
   "source": [
    "*Hierarchical Inheritance\n",
    "\n",
    "More than one child class is derived from a single parent class.\n",
    "\n",
    "                                              Parent class\n",
    "                                             /     |     \\\n",
    "                                            /      |      \\\n",
    "                                        Child1   Child2  Child3"
   ]
  },
  {
   "cell_type": "markdown",
   "id": "294ed200",
   "metadata": {},
   "source": [
    "*Hybrid Inheritance\n",
    "\n",
    "Combination of multiple types or a combination of different inheritance.\n"
   ]
  },
  {
   "cell_type": "markdown",
   "id": "a18875bf",
   "metadata": {},
   "source": []
  }
 ],
 "metadata": {
  "kernelspec": {
   "display_name": "Python 3",
   "language": "python",
   "name": "python3"
  },
  "language_info": {
   "codemirror_mode": {
    "name": "ipython",
    "version": 3
   },
   "file_extension": ".py",
   "mimetype": "text/x-python",
   "name": "python",
   "nbconvert_exporter": "python",
   "pygments_lexer": "ipython3",
   "version": "3.13.3"
  }
 },
 "nbformat": 4,
 "nbformat_minor": 5
}
