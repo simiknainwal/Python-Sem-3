{
 "cells": [
  {
   "cell_type": "markdown",
   "id": "21be8b55",
   "metadata": {},
   "source": [
    "*Method Overloading\n",
    "\n",
    "Having multiple methods with same name but different parameter lists.\n",
    "\n",
    "Python doesn't support true method overloading.\n",
    "\n",
    "We can achieve through:\n",
    "\n",
    "1)Default arguments\n",
    "\n",
    "2)Variable-length arguments\n"
   ]
  },
  {
   "cell_type": "code",
   "execution_count": null,
   "id": "5abdb0bf",
   "metadata": {},
   "outputs": [
    {
     "data": {
      "text/plain": [
       "9"
      ]
     },
     "execution_count": 4,
     "metadata": {},
     "output_type": "execute_result"
    }
   ],
   "source": [
    "class calculator:\n",
    "    def add(self,a):\n",
    "        return a\n",
    "    \n",
    "    def add(self,a,b):\n",
    "        return a+b\n",
    "    \n",
    "    def add(self,a,b,c):\n",
    "        return a+b+c\n",
    "o1=calculator()\n",
    "# o1.add(2)\n",
    "# o1.add(2,3)\n",
    "o1.add(2,3,4)\n",
    "\n",
    "        "
   ]
  },
  {
   "cell_type": "markdown",
   "id": "2688a881",
   "metadata": {},
   "source": [
    "First approach is through default arguments."
   ]
  },
  {
   "cell_type": "code",
   "execution_count": 6,
   "id": "9bc41c49",
   "metadata": {},
   "outputs": [
    {
     "name": "stdout",
     "output_type": "stream",
     "text": [
      "2\n",
      "5\n",
      "9\n"
     ]
    }
   ],
   "source": [
    "class calculator:\n",
    "    \n",
    "    def add(self,a=0,b=0,c=0):\n",
    "        return a+b+c\n",
    "\n",
    "o1=calculator()\n",
    "print(o1.add(2))\n",
    "print(o1.add(2,3))\n",
    "print(o1.add(2,3,4))\n",
    "\n",
    "        "
   ]
  },
  {
   "cell_type": "markdown",
   "id": "56e6d7fe",
   "metadata": {},
   "source": [
    "Second approach is through variable-keyword arguments"
   ]
  },
  {
   "cell_type": "code",
   "execution_count": null,
   "id": "aa988ba5",
   "metadata": {},
   "outputs": [
    {
     "name": "stdout",
     "output_type": "stream",
     "text": [
      "<class 'tuple'>\n",
      "2\n",
      "<class 'tuple'>\n",
      "5\n",
      "<class 'tuple'>\n",
      "9\n"
     ]
    }
   ],
   "source": [
    "class calculator:\n",
    "    \n",
    "    def add(self,*args):\n",
    "        # return sum(args)\n",
    "        sum=0\n",
    "        print(type(args))#tuple type\n",
    "        for i in args:\n",
    "            sum=sum+i\n",
    "        return sum    \n",
    "\n",
    "o1=calculator()\n",
    "print(o1.add(2))\n",
    "print(o1.add(2,3))\n",
    "print(o1.add(2,3,4))\n",
    "\n",
    "        "
   ]
  },
  {
   "cell_type": "markdown",
   "id": "97a9d3af",
   "metadata": {},
   "source": [
    "*Method Overriding\n",
    "\n",
    "When child class defines a method with the same name as its parent then child class overrides the parent class."
   ]
  },
  {
   "cell_type": "code",
   "execution_count": 12,
   "id": "ea201ff2",
   "metadata": {},
   "outputs": [
    {
     "name": "stdout",
     "output_type": "stream",
     "text": [
      "Animals make sound\n",
      "Barks\n",
      "Meow\n"
     ]
    }
   ],
   "source": [
    "class Animal:\n",
    "    def sound(self):\n",
    "        print(\"Animals make sound\")\n",
    "    \n",
    "class Dog(Animal):\n",
    "    def sound(self):\n",
    "        print(\"Barks\")\n",
    "\n",
    "class Cat(Animal):\n",
    "    def sound(self):\n",
    "        print(\"Meow\")\n",
    "        \n",
    "o1=Animal() \n",
    "o2=Dog() \n",
    "o3=Cat() \n",
    "o1.sound()\n",
    "o2.sound()\n",
    "o3.sound()\n",
    "\n",
    "                       "
   ]
  },
  {
   "cell_type": "code",
   "execution_count": 14,
   "id": "2a833cc9",
   "metadata": {},
   "outputs": [
    {
     "name": "stdout",
     "output_type": "stream",
     "text": [
      "Home Interest is 10%\n",
      "Home Interest is 8%\n",
      "Home Interest is 1%\n"
     ]
    }
   ],
   "source": [
    "class RBI:\n",
    "    def home_interest(self):\n",
    "        print(\"Home Interest is 10%\")\n",
    "    \n",
    "class SBI(RBI):\n",
    "    def home_interest(self):\n",
    "        print(\"Home Interest is 8%\") \n",
    "        \n",
    "class Axis(RBI):\n",
    "    def home_interest(self):\n",
    "        print(\"Home Interest is 1%\")\n",
    "        \n",
    "o1=RBI()\n",
    "o2=SBI()\n",
    "o3=Axis()\n",
    "o1.home_interest()              \n",
    "o2.home_interest()\n",
    "o3.home_interest()\n",
    "                               "
   ]
  },
  {
   "cell_type": "markdown",
   "id": "769cea1a",
   "metadata": {},
   "source": [
    "*super() method in Python\n",
    "\n",
    "It is used inside a class to call the methods of its parent class.\n",
    "\n",
    "It is mostly used in inheritance to avoid calling the parent class.\n",
    "\n",
    "Helps in code reuse and avoids duplication"
   ]
  },
  {
   "cell_type": "code",
   "execution_count": 22,
   "id": "998a01db",
   "metadata": {},
   "outputs": [
    {
     "name": "stdout",
     "output_type": "stream",
     "text": [
      "Simik\n",
      "1234-5678-9012\n",
      "3\n",
      "66\n"
     ]
    }
   ],
   "source": [
    "class Person:\n",
    "    def __init__(self,name,aadhaar):\n",
    "        self.name=name\n",
    "        self.aadhaar=aadhaar\n",
    "    \n",
    "    def show(self):\n",
    "        print(self.name)\n",
    "        print(self.aadhaar)\n",
    "\n",
    "class Student(Person):\n",
    "    def __init__(self,name,aadhaar,sem,rollno):\n",
    "        # self.name=name\n",
    "        # self.aadhaar=aadhaar\n",
    "        super().__init__(name,aadhaar)\n",
    "        self.sem=sem\n",
    "        self.rollno=rollno\n",
    "    \n",
    "    def show(self):\n",
    "        # print(self.name)\n",
    "        # print(self.aadhaar)\n",
    "        super().show()\n",
    "        print(self.sem)\n",
    "        print(self.rollno)\n",
    "s1=Student(\"Simik\",\"1234-5678-9012\",3,66)\n",
    "s1.show()"
   ]
  }
 ],
 "metadata": {
  "kernelspec": {
   "display_name": "Python 3",
   "language": "python",
   "name": "python3"
  },
  "language_info": {
   "codemirror_mode": {
    "name": "ipython",
    "version": 3
   },
   "file_extension": ".py",
   "mimetype": "text/x-python",
   "name": "python",
   "nbconvert_exporter": "python",
   "pygments_lexer": "ipython3",
   "version": "3.13.3"
  }
 },
 "nbformat": 4,
 "nbformat_minor": 5
}
